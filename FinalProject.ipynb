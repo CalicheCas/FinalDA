{
 "cells": [
  {
   "cell_type": "code",
   "execution_count": 1,
   "metadata": {},
   "outputs": [],
   "source": [
    "import pandas as pd\n",
    "%matplotlib inline\n",
    "import matplotlib.pyplot as plt\n",
    "plt.style.use('seaborn-whitegrid')\n",
    "import numpy as np\n"
   ]
  },
  {
   "cell_type": "markdown",
   "metadata": {},
   "source": [
    "# Fetching Data\n",
    "\n",
    "The panda data frames below contain data for USD/CHF, EUR/USD, GBP/USD currency pair for the period of December 19, 2018 to December 19th, 2019."
   ]
  },
  {
   "cell_type": "code",
   "execution_count": 2,
   "metadata": {},
   "outputs": [],
   "source": [
    "usd_chf_df = pd.read_csv('^usdchf_price-history-12-19-2019.csv')\n",
    "eur_usd_df = pd.read_csv('^eurusd_price-history-12-19-2019.csv')\n",
    "gbp_usd_df = pd.read_csv('^gbpusd_price-history-12-19-2019.csv')"
   ]
  },
  {
   "cell_type": "markdown",
   "metadata": {},
   "source": [
    "## USD/CHF (US Dollar / Swis Frank)"
   ]
  },
  {
   "cell_type": "code",
   "execution_count": 3,
   "metadata": {},
   "outputs": [
    {
     "data": {
      "text/html": [
       "<div>\n",
       "<style scoped>\n",
       "    .dataframe tbody tr th:only-of-type {\n",
       "        vertical-align: middle;\n",
       "    }\n",
       "\n",
       "    .dataframe tbody tr th {\n",
       "        vertical-align: top;\n",
       "    }\n",
       "\n",
       "    .dataframe thead th {\n",
       "        text-align: right;\n",
       "    }\n",
       "</style>\n",
       "<table border=\"1\" class=\"dataframe\">\n",
       "  <thead>\n",
       "    <tr style=\"text-align: right;\">\n",
       "      <th></th>\n",
       "      <th>Time</th>\n",
       "      <th>Open</th>\n",
       "      <th>High</th>\n",
       "      <th>Low</th>\n",
       "      <th>Last</th>\n",
       "      <th>Change</th>\n",
       "      <th>Volume</th>\n",
       "    </tr>\n",
       "  </thead>\n",
       "  <tbody>\n",
       "    <tr>\n",
       "      <th>0</th>\n",
       "      <td>12/19/19</td>\n",
       "      <td>0.98028</td>\n",
       "      <td>0.98117</td>\n",
       "      <td>0.97698</td>\n",
       "      <td>0.97836</td>\n",
       "      <td>-0.00191</td>\n",
       "      <td>103257.0</td>\n",
       "    </tr>\n",
       "    <tr>\n",
       "      <th>1</th>\n",
       "      <td>12/18/19</td>\n",
       "      <td>0.97991</td>\n",
       "      <td>0.98206</td>\n",
       "      <td>0.97953</td>\n",
       "      <td>0.98027</td>\n",
       "      <td>0.00036</td>\n",
       "      <td>94853.0</td>\n",
       "    </tr>\n",
       "    <tr>\n",
       "      <th>2</th>\n",
       "      <td>12/17/19</td>\n",
       "      <td>0.98227</td>\n",
       "      <td>0.98434</td>\n",
       "      <td>0.97955</td>\n",
       "      <td>0.97991</td>\n",
       "      <td>-0.00237</td>\n",
       "      <td>103659.0</td>\n",
       "    </tr>\n",
       "    <tr>\n",
       "      <th>3</th>\n",
       "      <td>12/16/19</td>\n",
       "      <td>0.98385</td>\n",
       "      <td>0.98464</td>\n",
       "      <td>0.98196</td>\n",
       "      <td>0.98228</td>\n",
       "      <td>-0.00099</td>\n",
       "      <td>85596.0</td>\n",
       "    </tr>\n",
       "    <tr>\n",
       "      <th>4</th>\n",
       "      <td>12/13/19</td>\n",
       "      <td>0.98374</td>\n",
       "      <td>0.98623</td>\n",
       "      <td>0.98053</td>\n",
       "      <td>0.98327</td>\n",
       "      <td>-0.00044</td>\n",
       "      <td>156389.0</td>\n",
       "    </tr>\n",
       "  </tbody>\n",
       "</table>\n",
       "</div>"
      ],
      "text/plain": [
       "       Time     Open     High      Low     Last   Change    Volume\n",
       "0  12/19/19  0.98028  0.98117  0.97698  0.97836 -0.00191  103257.0\n",
       "1  12/18/19  0.97991  0.98206  0.97953  0.98027  0.00036   94853.0\n",
       "2  12/17/19  0.98227  0.98434  0.97955  0.97991 -0.00237  103659.0\n",
       "3  12/16/19  0.98385  0.98464  0.98196  0.98228 -0.00099   85596.0\n",
       "4  12/13/19  0.98374  0.98623  0.98053  0.98327 -0.00044  156389.0"
      ]
     },
     "execution_count": 3,
     "metadata": {},
     "output_type": "execute_result"
    }
   ],
   "source": [
    "usd_chf_df.head()\n"
   ]
  },
  {
   "cell_type": "code",
   "execution_count": 4,
   "metadata": {},
   "outputs": [
    {
     "data": {
      "text/html": [
       "<div>\n",
       "<style scoped>\n",
       "    .dataframe tbody tr th:only-of-type {\n",
       "        vertical-align: middle;\n",
       "    }\n",
       "\n",
       "    .dataframe tbody tr th {\n",
       "        vertical-align: top;\n",
       "    }\n",
       "\n",
       "    .dataframe thead th {\n",
       "        text-align: right;\n",
       "    }\n",
       "</style>\n",
       "<table border=\"1\" class=\"dataframe\">\n",
       "  <thead>\n",
       "    <tr style=\"text-align: right;\">\n",
       "      <th></th>\n",
       "      <th>Time</th>\n",
       "      <th>Open</th>\n",
       "      <th>High</th>\n",
       "      <th>Low</th>\n",
       "      <th>Last</th>\n",
       "      <th>Change</th>\n",
       "      <th>Volume</th>\n",
       "    </tr>\n",
       "  </thead>\n",
       "  <tbody>\n",
       "    <tr>\n",
       "      <th>256</th>\n",
       "      <td>12/24/18</td>\n",
       "      <td>0.99380</td>\n",
       "      <td>0.99511</td>\n",
       "      <td>0.98539</td>\n",
       "      <td>0.98675</td>\n",
       "      <td>-0.00828</td>\n",
       "      <td>51695.0</td>\n",
       "    </tr>\n",
       "    <tr>\n",
       "      <th>257</th>\n",
       "      <td>12/21/18</td>\n",
       "      <td>0.98770</td>\n",
       "      <td>0.99559</td>\n",
       "      <td>0.98403</td>\n",
       "      <td>0.99503</td>\n",
       "      <td>0.00730</td>\n",
       "      <td>88819.0</td>\n",
       "    </tr>\n",
       "    <tr>\n",
       "      <th>258</th>\n",
       "      <td>12/20/18</td>\n",
       "      <td>0.99439</td>\n",
       "      <td>0.99519</td>\n",
       "      <td>0.98403</td>\n",
       "      <td>0.98773</td>\n",
       "      <td>-0.00666</td>\n",
       "      <td>92146.0</td>\n",
       "    </tr>\n",
       "    <tr>\n",
       "      <th>259</th>\n",
       "      <td>12/19/18</td>\n",
       "      <td>0.99240</td>\n",
       "      <td>0.99542</td>\n",
       "      <td>0.99063</td>\n",
       "      <td>0.99439</td>\n",
       "      <td>0.00200</td>\n",
       "      <td>81196.0</td>\n",
       "    </tr>\n",
       "    <tr>\n",
       "      <th>260</th>\n",
       "      <td>Downloaded from Barchart.com as of 12-19-2019 ...</td>\n",
       "      <td>NaN</td>\n",
       "      <td>NaN</td>\n",
       "      <td>NaN</td>\n",
       "      <td>NaN</td>\n",
       "      <td>NaN</td>\n",
       "      <td>NaN</td>\n",
       "    </tr>\n",
       "  </tbody>\n",
       "</table>\n",
       "</div>"
      ],
      "text/plain": [
       "                                                  Time     Open     High  \\\n",
       "256                                           12/24/18  0.99380  0.99511   \n",
       "257                                           12/21/18  0.98770  0.99559   \n",
       "258                                           12/20/18  0.99439  0.99519   \n",
       "259                                           12/19/18  0.99240  0.99542   \n",
       "260  Downloaded from Barchart.com as of 12-19-2019 ...      NaN      NaN   \n",
       "\n",
       "         Low     Last   Change   Volume  \n",
       "256  0.98539  0.98675 -0.00828  51695.0  \n",
       "257  0.98403  0.99503  0.00730  88819.0  \n",
       "258  0.98403  0.98773 -0.00666  92146.0  \n",
       "259  0.99063  0.99439  0.00200  81196.0  \n",
       "260      NaN      NaN      NaN      NaN  "
      ]
     },
     "execution_count": 4,
     "metadata": {},
     "output_type": "execute_result"
    }
   ],
   "source": [
    "usd_chf_df.tail()"
   ]
  },
  {
   "cell_type": "markdown",
   "metadata": {},
   "source": [
    "##  EUR/USD (Euro / US Dollar)"
   ]
  },
  {
   "cell_type": "code",
   "execution_count": 5,
   "metadata": {},
   "outputs": [
    {
     "data": {
      "text/html": [
       "<div>\n",
       "<style scoped>\n",
       "    .dataframe tbody tr th:only-of-type {\n",
       "        vertical-align: middle;\n",
       "    }\n",
       "\n",
       "    .dataframe tbody tr th {\n",
       "        vertical-align: top;\n",
       "    }\n",
       "\n",
       "    .dataframe thead th {\n",
       "        text-align: right;\n",
       "    }\n",
       "</style>\n",
       "<table border=\"1\" class=\"dataframe\">\n",
       "  <thead>\n",
       "    <tr style=\"text-align: right;\">\n",
       "      <th></th>\n",
       "      <th>Time</th>\n",
       "      <th>Open</th>\n",
       "      <th>High</th>\n",
       "      <th>Low</th>\n",
       "      <th>Last</th>\n",
       "      <th>Change</th>\n",
       "      <th>Volume</th>\n",
       "    </tr>\n",
       "  </thead>\n",
       "  <tbody>\n",
       "    <tr>\n",
       "      <th>0</th>\n",
       "      <td>12/19/19</td>\n",
       "      <td>1.11123</td>\n",
       "      <td>1.11438</td>\n",
       "      <td>1.11073</td>\n",
       "      <td>1.11196</td>\n",
       "      <td>0.00074</td>\n",
       "      <td>139068.0</td>\n",
       "    </tr>\n",
       "    <tr>\n",
       "      <th>1</th>\n",
       "      <td>12/18/19</td>\n",
       "      <td>1.11498</td>\n",
       "      <td>1.11538</td>\n",
       "      <td>1.11104</td>\n",
       "      <td>1.11122</td>\n",
       "      <td>-0.00378</td>\n",
       "      <td>121727.0</td>\n",
       "    </tr>\n",
       "    <tr>\n",
       "      <th>2</th>\n",
       "      <td>12/17/19</td>\n",
       "      <td>1.11433</td>\n",
       "      <td>1.11740</td>\n",
       "      <td>1.11290</td>\n",
       "      <td>1.11500</td>\n",
       "      <td>0.00067</td>\n",
       "      <td>141052.0</td>\n",
       "    </tr>\n",
       "    <tr>\n",
       "      <th>3</th>\n",
       "      <td>12/16/19</td>\n",
       "      <td>1.11295</td>\n",
       "      <td>1.11577</td>\n",
       "      <td>1.11225</td>\n",
       "      <td>1.11433</td>\n",
       "      <td>0.00255</td>\n",
       "      <td>114831.0</td>\n",
       "    </tr>\n",
       "    <tr>\n",
       "      <th>4</th>\n",
       "      <td>12/13/19</td>\n",
       "      <td>1.11287</td>\n",
       "      <td>1.11989</td>\n",
       "      <td>1.11114</td>\n",
       "      <td>1.11178</td>\n",
       "      <td>-0.00108</td>\n",
       "      <td>205753.0</td>\n",
       "    </tr>\n",
       "  </tbody>\n",
       "</table>\n",
       "</div>"
      ],
      "text/plain": [
       "       Time     Open     High      Low     Last   Change    Volume\n",
       "0  12/19/19  1.11123  1.11438  1.11073  1.11196  0.00074  139068.0\n",
       "1  12/18/19  1.11498  1.11538  1.11104  1.11122 -0.00378  121727.0\n",
       "2  12/17/19  1.11433  1.11740  1.11290  1.11500  0.00067  141052.0\n",
       "3  12/16/19  1.11295  1.11577  1.11225  1.11433  0.00255  114831.0\n",
       "4  12/13/19  1.11287  1.11989  1.11114  1.11178 -0.00108  205753.0"
      ]
     },
     "execution_count": 5,
     "metadata": {},
     "output_type": "execute_result"
    }
   ],
   "source": [
    "eur_usd_df.head()"
   ]
  },
  {
   "cell_type": "code",
   "execution_count": 6,
   "metadata": {},
   "outputs": [
    {
     "data": {
      "text/html": [
       "<div>\n",
       "<style scoped>\n",
       "    .dataframe tbody tr th:only-of-type {\n",
       "        vertical-align: middle;\n",
       "    }\n",
       "\n",
       "    .dataframe tbody tr th {\n",
       "        vertical-align: top;\n",
       "    }\n",
       "\n",
       "    .dataframe thead th {\n",
       "        text-align: right;\n",
       "    }\n",
       "</style>\n",
       "<table border=\"1\" class=\"dataframe\">\n",
       "  <thead>\n",
       "    <tr style=\"text-align: right;\">\n",
       "      <th></th>\n",
       "      <th>Time</th>\n",
       "      <th>Open</th>\n",
       "      <th>High</th>\n",
       "      <th>Low</th>\n",
       "      <th>Last</th>\n",
       "      <th>Change</th>\n",
       "      <th>Volume</th>\n",
       "    </tr>\n",
       "  </thead>\n",
       "  <tbody>\n",
       "    <tr>\n",
       "      <th>256</th>\n",
       "      <td>12/24/18</td>\n",
       "      <td>1.13603</td>\n",
       "      <td>1.14373</td>\n",
       "      <td>1.13597</td>\n",
       "      <td>1.14003</td>\n",
       "      <td>0.00314</td>\n",
       "      <td>77902.0</td>\n",
       "    </tr>\n",
       "    <tr>\n",
       "      <th>257</th>\n",
       "      <td>12/21/18</td>\n",
       "      <td>1.14450</td>\n",
       "      <td>1.14737</td>\n",
       "      <td>1.13555</td>\n",
       "      <td>1.13689</td>\n",
       "      <td>-0.00762</td>\n",
       "      <td>99221.0</td>\n",
       "    </tr>\n",
       "    <tr>\n",
       "      <th>258</th>\n",
       "      <td>12/20/18</td>\n",
       "      <td>1.13740</td>\n",
       "      <td>1.14851</td>\n",
       "      <td>1.13699</td>\n",
       "      <td>1.14451</td>\n",
       "      <td>0.00707</td>\n",
       "      <td>104346.0</td>\n",
       "    </tr>\n",
       "    <tr>\n",
       "      <th>259</th>\n",
       "      <td>12/19/18</td>\n",
       "      <td>1.13610</td>\n",
       "      <td>1.14386</td>\n",
       "      <td>1.13599</td>\n",
       "      <td>1.13744</td>\n",
       "      <td>0.00146</td>\n",
       "      <td>88147.0</td>\n",
       "    </tr>\n",
       "    <tr>\n",
       "      <th>260</th>\n",
       "      <td>Downloaded from Barchart.com as of 12-19-2019 ...</td>\n",
       "      <td>NaN</td>\n",
       "      <td>NaN</td>\n",
       "      <td>NaN</td>\n",
       "      <td>NaN</td>\n",
       "      <td>NaN</td>\n",
       "      <td>NaN</td>\n",
       "    </tr>\n",
       "  </tbody>\n",
       "</table>\n",
       "</div>"
      ],
      "text/plain": [
       "                                                  Time     Open     High  \\\n",
       "256                                           12/24/18  1.13603  1.14373   \n",
       "257                                           12/21/18  1.14450  1.14737   \n",
       "258                                           12/20/18  1.13740  1.14851   \n",
       "259                                           12/19/18  1.13610  1.14386   \n",
       "260  Downloaded from Barchart.com as of 12-19-2019 ...      NaN      NaN   \n",
       "\n",
       "         Low     Last   Change    Volume  \n",
       "256  1.13597  1.14003  0.00314   77902.0  \n",
       "257  1.13555  1.13689 -0.00762   99221.0  \n",
       "258  1.13699  1.14451  0.00707  104346.0  \n",
       "259  1.13599  1.13744  0.00146   88147.0  \n",
       "260      NaN      NaN      NaN       NaN  "
      ]
     },
     "execution_count": 6,
     "metadata": {},
     "output_type": "execute_result"
    }
   ],
   "source": [
    "eur_usd_df.tail()"
   ]
  },
  {
   "cell_type": "markdown",
   "metadata": {},
   "source": [
    "## GBP/USD (British Pound / US Dollar)"
   ]
  },
  {
   "cell_type": "code",
   "execution_count": 7,
   "metadata": {},
   "outputs": [
    {
     "data": {
      "text/html": [
       "<div>\n",
       "<style scoped>\n",
       "    .dataframe tbody tr th:only-of-type {\n",
       "        vertical-align: middle;\n",
       "    }\n",
       "\n",
       "    .dataframe tbody tr th {\n",
       "        vertical-align: top;\n",
       "    }\n",
       "\n",
       "    .dataframe thead th {\n",
       "        text-align: right;\n",
       "    }\n",
       "</style>\n",
       "<table border=\"1\" class=\"dataframe\">\n",
       "  <thead>\n",
       "    <tr style=\"text-align: right;\">\n",
       "      <th></th>\n",
       "      <th>Time</th>\n",
       "      <th>Open</th>\n",
       "      <th>High</th>\n",
       "      <th>Low</th>\n",
       "      <th>Last</th>\n",
       "      <th>Change</th>\n",
       "      <th>Volume</th>\n",
       "    </tr>\n",
       "  </thead>\n",
       "  <tbody>\n",
       "    <tr>\n",
       "      <th>0</th>\n",
       "      <td>12/19/19</td>\n",
       "      <td>1.30774</td>\n",
       "      <td>1.31317</td>\n",
       "      <td>1.29899</td>\n",
       "      <td>1.30077</td>\n",
       "      <td>-0.00698</td>\n",
       "      <td>231968.0</td>\n",
       "    </tr>\n",
       "    <tr>\n",
       "      <th>1</th>\n",
       "      <td>12/18/19</td>\n",
       "      <td>1.31291</td>\n",
       "      <td>1.31338</td>\n",
       "      <td>1.30598</td>\n",
       "      <td>1.30775</td>\n",
       "      <td>-0.00518</td>\n",
       "      <td>232518.0</td>\n",
       "    </tr>\n",
       "    <tr>\n",
       "      <th>2</th>\n",
       "      <td>12/17/19</td>\n",
       "      <td>1.33311</td>\n",
       "      <td>1.33349</td>\n",
       "      <td>1.30991</td>\n",
       "      <td>1.31293</td>\n",
       "      <td>-0.02017</td>\n",
       "      <td>242576.0</td>\n",
       "    </tr>\n",
       "    <tr>\n",
       "      <th>3</th>\n",
       "      <td>12/16/19</td>\n",
       "      <td>1.33384</td>\n",
       "      <td>1.34217</td>\n",
       "      <td>1.33212</td>\n",
       "      <td>1.33310</td>\n",
       "      <td>0.00056</td>\n",
       "      <td>191682.0</td>\n",
       "    </tr>\n",
       "    <tr>\n",
       "      <th>4</th>\n",
       "      <td>12/13/19</td>\n",
       "      <td>1.31563</td>\n",
       "      <td>1.35139</td>\n",
       "      <td>1.31562</td>\n",
       "      <td>1.33254</td>\n",
       "      <td>0.01695</td>\n",
       "      <td>282750.0</td>\n",
       "    </tr>\n",
       "  </tbody>\n",
       "</table>\n",
       "</div>"
      ],
      "text/plain": [
       "       Time     Open     High      Low     Last   Change    Volume\n",
       "0  12/19/19  1.30774  1.31317  1.29899  1.30077 -0.00698  231968.0\n",
       "1  12/18/19  1.31291  1.31338  1.30598  1.30775 -0.00518  232518.0\n",
       "2  12/17/19  1.33311  1.33349  1.30991  1.31293 -0.02017  242576.0\n",
       "3  12/16/19  1.33384  1.34217  1.33212  1.33310  0.00056  191682.0\n",
       "4  12/13/19  1.31563  1.35139  1.31562  1.33254  0.01695  282750.0"
      ]
     },
     "execution_count": 7,
     "metadata": {},
     "output_type": "execute_result"
    }
   ],
   "source": [
    "gbp_usd_df.head()"
   ]
  },
  {
   "cell_type": "code",
   "execution_count": 8,
   "metadata": {},
   "outputs": [
    {
     "data": {
      "text/html": [
       "<div>\n",
       "<style scoped>\n",
       "    .dataframe tbody tr th:only-of-type {\n",
       "        vertical-align: middle;\n",
       "    }\n",
       "\n",
       "    .dataframe tbody tr th {\n",
       "        vertical-align: top;\n",
       "    }\n",
       "\n",
       "    .dataframe thead th {\n",
       "        text-align: right;\n",
       "    }\n",
       "</style>\n",
       "<table border=\"1\" class=\"dataframe\">\n",
       "  <thead>\n",
       "    <tr style=\"text-align: right;\">\n",
       "      <th></th>\n",
       "      <th>Time</th>\n",
       "      <th>Open</th>\n",
       "      <th>High</th>\n",
       "      <th>Low</th>\n",
       "      <th>Last</th>\n",
       "      <th>Change</th>\n",
       "      <th>Volume</th>\n",
       "    </tr>\n",
       "  </thead>\n",
       "  <tbody>\n",
       "    <tr>\n",
       "      <th>256</th>\n",
       "      <td>12/24/18</td>\n",
       "      <td>1.26304</td>\n",
       "      <td>1.27368</td>\n",
       "      <td>1.26304</td>\n",
       "      <td>1.27031</td>\n",
       "      <td>0.00755</td>\n",
       "      <td>119043.0</td>\n",
       "    </tr>\n",
       "    <tr>\n",
       "      <th>257</th>\n",
       "      <td>12/21/18</td>\n",
       "      <td>1.26523</td>\n",
       "      <td>1.26971</td>\n",
       "      <td>1.26179</td>\n",
       "      <td>1.26276</td>\n",
       "      <td>-0.00277</td>\n",
       "      <td>166598.0</td>\n",
       "    </tr>\n",
       "    <tr>\n",
       "      <th>258</th>\n",
       "      <td>12/20/18</td>\n",
       "      <td>1.26070</td>\n",
       "      <td>1.27060</td>\n",
       "      <td>1.26070</td>\n",
       "      <td>1.26553</td>\n",
       "      <td>0.00473</td>\n",
       "      <td>156432.0</td>\n",
       "    </tr>\n",
       "    <tr>\n",
       "      <th>259</th>\n",
       "      <td>12/19/18</td>\n",
       "      <td>1.26390</td>\n",
       "      <td>1.26779</td>\n",
       "      <td>1.26074</td>\n",
       "      <td>1.26080</td>\n",
       "      <td>-0.00300</td>\n",
       "      <td>145698.0</td>\n",
       "    </tr>\n",
       "    <tr>\n",
       "      <th>260</th>\n",
       "      <td>Downloaded from Barchart.com as of 12-19-2019 ...</td>\n",
       "      <td>NaN</td>\n",
       "      <td>NaN</td>\n",
       "      <td>NaN</td>\n",
       "      <td>NaN</td>\n",
       "      <td>NaN</td>\n",
       "      <td>NaN</td>\n",
       "    </tr>\n",
       "  </tbody>\n",
       "</table>\n",
       "</div>"
      ],
      "text/plain": [
       "                                                  Time     Open     High  \\\n",
       "256                                           12/24/18  1.26304  1.27368   \n",
       "257                                           12/21/18  1.26523  1.26971   \n",
       "258                                           12/20/18  1.26070  1.27060   \n",
       "259                                           12/19/18  1.26390  1.26779   \n",
       "260  Downloaded from Barchart.com as of 12-19-2019 ...      NaN      NaN   \n",
       "\n",
       "         Low     Last   Change    Volume  \n",
       "256  1.26304  1.27031  0.00755  119043.0  \n",
       "257  1.26179  1.26276 -0.00277  166598.0  \n",
       "258  1.26070  1.26553  0.00473  156432.0  \n",
       "259  1.26074  1.26080 -0.00300  145698.0  \n",
       "260      NaN      NaN      NaN       NaN  "
      ]
     },
     "execution_count": 8,
     "metadata": {},
     "output_type": "execute_result"
    }
   ],
   "source": [
    "gbp_usd_df.tail()"
   ]
  },
  {
   "cell_type": "markdown",
   "metadata": {},
   "source": [
    "## Removing Null values"
   ]
  },
  {
   "cell_type": "code",
   "execution_count": 9,
   "metadata": {},
   "outputs": [
    {
     "data": {
      "text/html": [
       "<div>\n",
       "<style scoped>\n",
       "    .dataframe tbody tr th:only-of-type {\n",
       "        vertical-align: middle;\n",
       "    }\n",
       "\n",
       "    .dataframe tbody tr th {\n",
       "        vertical-align: top;\n",
       "    }\n",
       "\n",
       "    .dataframe thead th {\n",
       "        text-align: right;\n",
       "    }\n",
       "</style>\n",
       "<table border=\"1\" class=\"dataframe\">\n",
       "  <thead>\n",
       "    <tr style=\"text-align: right;\">\n",
       "      <th></th>\n",
       "      <th>Time</th>\n",
       "      <th>Open</th>\n",
       "      <th>High</th>\n",
       "      <th>Low</th>\n",
       "      <th>Last</th>\n",
       "      <th>Change</th>\n",
       "      <th>Volume</th>\n",
       "    </tr>\n",
       "  </thead>\n",
       "  <tbody>\n",
       "    <tr>\n",
       "      <th>255</th>\n",
       "      <td>12/26/18</td>\n",
       "      <td>0.99120</td>\n",
       "      <td>0.99624</td>\n",
       "      <td>0.98924</td>\n",
       "      <td>0.99518</td>\n",
       "      <td>0.00843</td>\n",
       "      <td>21627.0</td>\n",
       "    </tr>\n",
       "    <tr>\n",
       "      <th>256</th>\n",
       "      <td>12/24/18</td>\n",
       "      <td>0.99380</td>\n",
       "      <td>0.99511</td>\n",
       "      <td>0.98539</td>\n",
       "      <td>0.98675</td>\n",
       "      <td>-0.00828</td>\n",
       "      <td>51695.0</td>\n",
       "    </tr>\n",
       "    <tr>\n",
       "      <th>257</th>\n",
       "      <td>12/21/18</td>\n",
       "      <td>0.98770</td>\n",
       "      <td>0.99559</td>\n",
       "      <td>0.98403</td>\n",
       "      <td>0.99503</td>\n",
       "      <td>0.00730</td>\n",
       "      <td>88819.0</td>\n",
       "    </tr>\n",
       "    <tr>\n",
       "      <th>258</th>\n",
       "      <td>12/20/18</td>\n",
       "      <td>0.99439</td>\n",
       "      <td>0.99519</td>\n",
       "      <td>0.98403</td>\n",
       "      <td>0.98773</td>\n",
       "      <td>-0.00666</td>\n",
       "      <td>92146.0</td>\n",
       "    </tr>\n",
       "    <tr>\n",
       "      <th>259</th>\n",
       "      <td>12/19/18</td>\n",
       "      <td>0.99240</td>\n",
       "      <td>0.99542</td>\n",
       "      <td>0.99063</td>\n",
       "      <td>0.99439</td>\n",
       "      <td>0.00200</td>\n",
       "      <td>81196.0</td>\n",
       "    </tr>\n",
       "  </tbody>\n",
       "</table>\n",
       "</div>"
      ],
      "text/plain": [
       "         Time     Open     High      Low     Last   Change   Volume\n",
       "255  12/26/18  0.99120  0.99624  0.98924  0.99518  0.00843  21627.0\n",
       "256  12/24/18  0.99380  0.99511  0.98539  0.98675 -0.00828  51695.0\n",
       "257  12/21/18  0.98770  0.99559  0.98403  0.99503  0.00730  88819.0\n",
       "258  12/20/18  0.99439  0.99519  0.98403  0.98773 -0.00666  92146.0\n",
       "259  12/19/18  0.99240  0.99542  0.99063  0.99439  0.00200  81196.0"
      ]
     },
     "execution_count": 9,
     "metadata": {},
     "output_type": "execute_result"
    }
   ],
   "source": [
    "usd_chf_df = usd_chf_df.dropna(how='any',axis=0)\n",
    "\n",
    "usd_chf_df.tail()"
   ]
  },
  {
   "cell_type": "code",
   "execution_count": 10,
   "metadata": {},
   "outputs": [
    {
     "data": {
      "text/html": [
       "<div>\n",
       "<style scoped>\n",
       "    .dataframe tbody tr th:only-of-type {\n",
       "        vertical-align: middle;\n",
       "    }\n",
       "\n",
       "    .dataframe tbody tr th {\n",
       "        vertical-align: top;\n",
       "    }\n",
       "\n",
       "    .dataframe thead th {\n",
       "        text-align: right;\n",
       "    }\n",
       "</style>\n",
       "<table border=\"1\" class=\"dataframe\">\n",
       "  <thead>\n",
       "    <tr style=\"text-align: right;\">\n",
       "      <th></th>\n",
       "      <th>Time</th>\n",
       "      <th>Open</th>\n",
       "      <th>High</th>\n",
       "      <th>Low</th>\n",
       "      <th>Last</th>\n",
       "      <th>Change</th>\n",
       "      <th>Volume</th>\n",
       "    </tr>\n",
       "  </thead>\n",
       "  <tbody>\n",
       "    <tr>\n",
       "      <th>255</th>\n",
       "      <td>12/26/18</td>\n",
       "      <td>0.99120</td>\n",
       "      <td>0.99624</td>\n",
       "      <td>0.98924</td>\n",
       "      <td>0.99518</td>\n",
       "      <td>0.00843</td>\n",
       "      <td>21627.0</td>\n",
       "    </tr>\n",
       "    <tr>\n",
       "      <th>256</th>\n",
       "      <td>12/24/18</td>\n",
       "      <td>0.99380</td>\n",
       "      <td>0.99511</td>\n",
       "      <td>0.98539</td>\n",
       "      <td>0.98675</td>\n",
       "      <td>-0.00828</td>\n",
       "      <td>51695.0</td>\n",
       "    </tr>\n",
       "    <tr>\n",
       "      <th>257</th>\n",
       "      <td>12/21/18</td>\n",
       "      <td>0.98770</td>\n",
       "      <td>0.99559</td>\n",
       "      <td>0.98403</td>\n",
       "      <td>0.99503</td>\n",
       "      <td>0.00730</td>\n",
       "      <td>88819.0</td>\n",
       "    </tr>\n",
       "    <tr>\n",
       "      <th>258</th>\n",
       "      <td>12/20/18</td>\n",
       "      <td>0.99439</td>\n",
       "      <td>0.99519</td>\n",
       "      <td>0.98403</td>\n",
       "      <td>0.98773</td>\n",
       "      <td>-0.00666</td>\n",
       "      <td>92146.0</td>\n",
       "    </tr>\n",
       "    <tr>\n",
       "      <th>259</th>\n",
       "      <td>12/19/18</td>\n",
       "      <td>0.99240</td>\n",
       "      <td>0.99542</td>\n",
       "      <td>0.99063</td>\n",
       "      <td>0.99439</td>\n",
       "      <td>0.00200</td>\n",
       "      <td>81196.0</td>\n",
       "    </tr>\n",
       "  </tbody>\n",
       "</table>\n",
       "</div>"
      ],
      "text/plain": [
       "         Time     Open     High      Low     Last   Change   Volume\n",
       "255  12/26/18  0.99120  0.99624  0.98924  0.99518  0.00843  21627.0\n",
       "256  12/24/18  0.99380  0.99511  0.98539  0.98675 -0.00828  51695.0\n",
       "257  12/21/18  0.98770  0.99559  0.98403  0.99503  0.00730  88819.0\n",
       "258  12/20/18  0.99439  0.99519  0.98403  0.98773 -0.00666  92146.0\n",
       "259  12/19/18  0.99240  0.99542  0.99063  0.99439  0.00200  81196.0"
      ]
     },
     "execution_count": 10,
     "metadata": {},
     "output_type": "execute_result"
    }
   ],
   "source": [
    "usd_chf_df.tail()"
   ]
  },
  {
   "cell_type": "code",
   "execution_count": 11,
   "metadata": {},
   "outputs": [
    {
     "data": {
      "text/html": [
       "<div>\n",
       "<style scoped>\n",
       "    .dataframe tbody tr th:only-of-type {\n",
       "        vertical-align: middle;\n",
       "    }\n",
       "\n",
       "    .dataframe tbody tr th {\n",
       "        vertical-align: top;\n",
       "    }\n",
       "\n",
       "    .dataframe thead th {\n",
       "        text-align: right;\n",
       "    }\n",
       "</style>\n",
       "<table border=\"1\" class=\"dataframe\">\n",
       "  <thead>\n",
       "    <tr style=\"text-align: right;\">\n",
       "      <th></th>\n",
       "      <th>Time</th>\n",
       "      <th>Open</th>\n",
       "      <th>High</th>\n",
       "      <th>Low</th>\n",
       "      <th>Last</th>\n",
       "      <th>Change</th>\n",
       "      <th>Volume</th>\n",
       "    </tr>\n",
       "  </thead>\n",
       "  <tbody>\n",
       "    <tr>\n",
       "      <th>255</th>\n",
       "      <td>12/26/18</td>\n",
       "      <td>1.13883</td>\n",
       "      <td>1.14136</td>\n",
       "      <td>1.13434</td>\n",
       "      <td>1.13562</td>\n",
       "      <td>-0.00441</td>\n",
       "      <td>28476.0</td>\n",
       "    </tr>\n",
       "    <tr>\n",
       "      <th>256</th>\n",
       "      <td>12/24/18</td>\n",
       "      <td>1.13603</td>\n",
       "      <td>1.14373</td>\n",
       "      <td>1.13597</td>\n",
       "      <td>1.14003</td>\n",
       "      <td>0.00314</td>\n",
       "      <td>77902.0</td>\n",
       "    </tr>\n",
       "    <tr>\n",
       "      <th>257</th>\n",
       "      <td>12/21/18</td>\n",
       "      <td>1.14450</td>\n",
       "      <td>1.14737</td>\n",
       "      <td>1.13555</td>\n",
       "      <td>1.13689</td>\n",
       "      <td>-0.00762</td>\n",
       "      <td>99221.0</td>\n",
       "    </tr>\n",
       "    <tr>\n",
       "      <th>258</th>\n",
       "      <td>12/20/18</td>\n",
       "      <td>1.13740</td>\n",
       "      <td>1.14851</td>\n",
       "      <td>1.13699</td>\n",
       "      <td>1.14451</td>\n",
       "      <td>0.00707</td>\n",
       "      <td>104346.0</td>\n",
       "    </tr>\n",
       "    <tr>\n",
       "      <th>259</th>\n",
       "      <td>12/19/18</td>\n",
       "      <td>1.13610</td>\n",
       "      <td>1.14386</td>\n",
       "      <td>1.13599</td>\n",
       "      <td>1.13744</td>\n",
       "      <td>0.00146</td>\n",
       "      <td>88147.0</td>\n",
       "    </tr>\n",
       "  </tbody>\n",
       "</table>\n",
       "</div>"
      ],
      "text/plain": [
       "         Time     Open     High      Low     Last   Change    Volume\n",
       "255  12/26/18  1.13883  1.14136  1.13434  1.13562 -0.00441   28476.0\n",
       "256  12/24/18  1.13603  1.14373  1.13597  1.14003  0.00314   77902.0\n",
       "257  12/21/18  1.14450  1.14737  1.13555  1.13689 -0.00762   99221.0\n",
       "258  12/20/18  1.13740  1.14851  1.13699  1.14451  0.00707  104346.0\n",
       "259  12/19/18  1.13610  1.14386  1.13599  1.13744  0.00146   88147.0"
      ]
     },
     "execution_count": 11,
     "metadata": {},
     "output_type": "execute_result"
    }
   ],
   "source": [
    "eur_usd_df = eur_usd_df.dropna(how='any',axis=0)\n",
    "\n",
    "eur_usd_df.tail()"
   ]
  },
  {
   "cell_type": "code",
   "execution_count": 12,
   "metadata": {},
   "outputs": [
    {
     "data": {
      "text/html": [
       "<div>\n",
       "<style scoped>\n",
       "    .dataframe tbody tr th:only-of-type {\n",
       "        vertical-align: middle;\n",
       "    }\n",
       "\n",
       "    .dataframe tbody tr th {\n",
       "        vertical-align: top;\n",
       "    }\n",
       "\n",
       "    .dataframe thead th {\n",
       "        text-align: right;\n",
       "    }\n",
       "</style>\n",
       "<table border=\"1\" class=\"dataframe\">\n",
       "  <thead>\n",
       "    <tr style=\"text-align: right;\">\n",
       "      <th></th>\n",
       "      <th>Time</th>\n",
       "      <th>Open</th>\n",
       "      <th>High</th>\n",
       "      <th>Low</th>\n",
       "      <th>Last</th>\n",
       "      <th>Change</th>\n",
       "      <th>Volume</th>\n",
       "    </tr>\n",
       "  </thead>\n",
       "  <tbody>\n",
       "    <tr>\n",
       "      <th>255</th>\n",
       "      <td>12/26/18</td>\n",
       "      <td>1.26822</td>\n",
       "      <td>1.26978</td>\n",
       "      <td>1.26283</td>\n",
       "      <td>1.26399</td>\n",
       "      <td>-0.00632</td>\n",
       "      <td>30046.0</td>\n",
       "    </tr>\n",
       "    <tr>\n",
       "      <th>256</th>\n",
       "      <td>12/24/18</td>\n",
       "      <td>1.26304</td>\n",
       "      <td>1.27368</td>\n",
       "      <td>1.26304</td>\n",
       "      <td>1.27031</td>\n",
       "      <td>0.00755</td>\n",
       "      <td>119043.0</td>\n",
       "    </tr>\n",
       "    <tr>\n",
       "      <th>257</th>\n",
       "      <td>12/21/18</td>\n",
       "      <td>1.26523</td>\n",
       "      <td>1.26971</td>\n",
       "      <td>1.26179</td>\n",
       "      <td>1.26276</td>\n",
       "      <td>-0.00277</td>\n",
       "      <td>166598.0</td>\n",
       "    </tr>\n",
       "    <tr>\n",
       "      <th>258</th>\n",
       "      <td>12/20/18</td>\n",
       "      <td>1.26070</td>\n",
       "      <td>1.27060</td>\n",
       "      <td>1.26070</td>\n",
       "      <td>1.26553</td>\n",
       "      <td>0.00473</td>\n",
       "      <td>156432.0</td>\n",
       "    </tr>\n",
       "    <tr>\n",
       "      <th>259</th>\n",
       "      <td>12/19/18</td>\n",
       "      <td>1.26390</td>\n",
       "      <td>1.26779</td>\n",
       "      <td>1.26074</td>\n",
       "      <td>1.26080</td>\n",
       "      <td>-0.00300</td>\n",
       "      <td>145698.0</td>\n",
       "    </tr>\n",
       "  </tbody>\n",
       "</table>\n",
       "</div>"
      ],
      "text/plain": [
       "         Time     Open     High      Low     Last   Change    Volume\n",
       "255  12/26/18  1.26822  1.26978  1.26283  1.26399 -0.00632   30046.0\n",
       "256  12/24/18  1.26304  1.27368  1.26304  1.27031  0.00755  119043.0\n",
       "257  12/21/18  1.26523  1.26971  1.26179  1.26276 -0.00277  166598.0\n",
       "258  12/20/18  1.26070  1.27060  1.26070  1.26553  0.00473  156432.0\n",
       "259  12/19/18  1.26390  1.26779  1.26074  1.26080 -0.00300  145698.0"
      ]
     },
     "execution_count": 12,
     "metadata": {},
     "output_type": "execute_result"
    }
   ],
   "source": [
    "gbp_usd_df = gbp_usd_df.dropna(how='any',axis=0)\n",
    "\n",
    "gbp_usd_df.tail()"
   ]
  },
  {
   "cell_type": "markdown",
   "metadata": {},
   "source": [
    "## Delete Volume Column"
   ]
  },
  {
   "cell_type": "code",
   "execution_count": 13,
   "metadata": {},
   "outputs": [
    {
     "data": {
      "text/html": [
       "<div>\n",
       "<style scoped>\n",
       "    .dataframe tbody tr th:only-of-type {\n",
       "        vertical-align: middle;\n",
       "    }\n",
       "\n",
       "    .dataframe tbody tr th {\n",
       "        vertical-align: top;\n",
       "    }\n",
       "\n",
       "    .dataframe thead th {\n",
       "        text-align: right;\n",
       "    }\n",
       "</style>\n",
       "<table border=\"1\" class=\"dataframe\">\n",
       "  <thead>\n",
       "    <tr style=\"text-align: right;\">\n",
       "      <th></th>\n",
       "      <th>Time</th>\n",
       "      <th>Open</th>\n",
       "      <th>High</th>\n",
       "      <th>Low</th>\n",
       "      <th>Last</th>\n",
       "      <th>Change</th>\n",
       "    </tr>\n",
       "  </thead>\n",
       "  <tbody>\n",
       "    <tr>\n",
       "      <th>0</th>\n",
       "      <td>12/19/19</td>\n",
       "      <td>0.98028</td>\n",
       "      <td>0.98117</td>\n",
       "      <td>0.97698</td>\n",
       "      <td>0.97836</td>\n",
       "      <td>-0.00191</td>\n",
       "    </tr>\n",
       "    <tr>\n",
       "      <th>1</th>\n",
       "      <td>12/18/19</td>\n",
       "      <td>0.97991</td>\n",
       "      <td>0.98206</td>\n",
       "      <td>0.97953</td>\n",
       "      <td>0.98027</td>\n",
       "      <td>0.00036</td>\n",
       "    </tr>\n",
       "    <tr>\n",
       "      <th>2</th>\n",
       "      <td>12/17/19</td>\n",
       "      <td>0.98227</td>\n",
       "      <td>0.98434</td>\n",
       "      <td>0.97955</td>\n",
       "      <td>0.97991</td>\n",
       "      <td>-0.00237</td>\n",
       "    </tr>\n",
       "    <tr>\n",
       "      <th>3</th>\n",
       "      <td>12/16/19</td>\n",
       "      <td>0.98385</td>\n",
       "      <td>0.98464</td>\n",
       "      <td>0.98196</td>\n",
       "      <td>0.98228</td>\n",
       "      <td>-0.00099</td>\n",
       "    </tr>\n",
       "    <tr>\n",
       "      <th>4</th>\n",
       "      <td>12/13/19</td>\n",
       "      <td>0.98374</td>\n",
       "      <td>0.98623</td>\n",
       "      <td>0.98053</td>\n",
       "      <td>0.98327</td>\n",
       "      <td>-0.00044</td>\n",
       "    </tr>\n",
       "  </tbody>\n",
       "</table>\n",
       "</div>"
      ],
      "text/plain": [
       "       Time     Open     High      Low     Last   Change\n",
       "0  12/19/19  0.98028  0.98117  0.97698  0.97836 -0.00191\n",
       "1  12/18/19  0.97991  0.98206  0.97953  0.98027  0.00036\n",
       "2  12/17/19  0.98227  0.98434  0.97955  0.97991 -0.00237\n",
       "3  12/16/19  0.98385  0.98464  0.98196  0.98228 -0.00099\n",
       "4  12/13/19  0.98374  0.98623  0.98053  0.98327 -0.00044"
      ]
     },
     "execution_count": 13,
     "metadata": {},
     "output_type": "execute_result"
    }
   ],
   "source": [
    "usd_chf_df.pop('Volume')\n",
    "usd_chf_df.head()"
   ]
  },
  {
   "cell_type": "code",
   "execution_count": 14,
   "metadata": {},
   "outputs": [
    {
     "data": {
      "text/html": [
       "<div>\n",
       "<style scoped>\n",
       "    .dataframe tbody tr th:only-of-type {\n",
       "        vertical-align: middle;\n",
       "    }\n",
       "\n",
       "    .dataframe tbody tr th {\n",
       "        vertical-align: top;\n",
       "    }\n",
       "\n",
       "    .dataframe thead th {\n",
       "        text-align: right;\n",
       "    }\n",
       "</style>\n",
       "<table border=\"1\" class=\"dataframe\">\n",
       "  <thead>\n",
       "    <tr style=\"text-align: right;\">\n",
       "      <th></th>\n",
       "      <th>Time</th>\n",
       "      <th>Open</th>\n",
       "      <th>High</th>\n",
       "      <th>Low</th>\n",
       "      <th>Last</th>\n",
       "      <th>Change</th>\n",
       "    </tr>\n",
       "  </thead>\n",
       "  <tbody>\n",
       "    <tr>\n",
       "      <th>0</th>\n",
       "      <td>12/19/19</td>\n",
       "      <td>1.11123</td>\n",
       "      <td>1.11438</td>\n",
       "      <td>1.11073</td>\n",
       "      <td>1.11196</td>\n",
       "      <td>0.00074</td>\n",
       "    </tr>\n",
       "    <tr>\n",
       "      <th>1</th>\n",
       "      <td>12/18/19</td>\n",
       "      <td>1.11498</td>\n",
       "      <td>1.11538</td>\n",
       "      <td>1.11104</td>\n",
       "      <td>1.11122</td>\n",
       "      <td>-0.00378</td>\n",
       "    </tr>\n",
       "    <tr>\n",
       "      <th>2</th>\n",
       "      <td>12/17/19</td>\n",
       "      <td>1.11433</td>\n",
       "      <td>1.11740</td>\n",
       "      <td>1.11290</td>\n",
       "      <td>1.11500</td>\n",
       "      <td>0.00067</td>\n",
       "    </tr>\n",
       "    <tr>\n",
       "      <th>3</th>\n",
       "      <td>12/16/19</td>\n",
       "      <td>1.11295</td>\n",
       "      <td>1.11577</td>\n",
       "      <td>1.11225</td>\n",
       "      <td>1.11433</td>\n",
       "      <td>0.00255</td>\n",
       "    </tr>\n",
       "    <tr>\n",
       "      <th>4</th>\n",
       "      <td>12/13/19</td>\n",
       "      <td>1.11287</td>\n",
       "      <td>1.11989</td>\n",
       "      <td>1.11114</td>\n",
       "      <td>1.11178</td>\n",
       "      <td>-0.00108</td>\n",
       "    </tr>\n",
       "  </tbody>\n",
       "</table>\n",
       "</div>"
      ],
      "text/plain": [
       "       Time     Open     High      Low     Last   Change\n",
       "0  12/19/19  1.11123  1.11438  1.11073  1.11196  0.00074\n",
       "1  12/18/19  1.11498  1.11538  1.11104  1.11122 -0.00378\n",
       "2  12/17/19  1.11433  1.11740  1.11290  1.11500  0.00067\n",
       "3  12/16/19  1.11295  1.11577  1.11225  1.11433  0.00255\n",
       "4  12/13/19  1.11287  1.11989  1.11114  1.11178 -0.00108"
      ]
     },
     "execution_count": 14,
     "metadata": {},
     "output_type": "execute_result"
    }
   ],
   "source": [
    "eur_usd_df.pop('Volume')\n",
    "eur_usd_df.head()"
   ]
  },
  {
   "cell_type": "code",
   "execution_count": 15,
   "metadata": {},
   "outputs": [
    {
     "data": {
      "text/html": [
       "<div>\n",
       "<style scoped>\n",
       "    .dataframe tbody tr th:only-of-type {\n",
       "        vertical-align: middle;\n",
       "    }\n",
       "\n",
       "    .dataframe tbody tr th {\n",
       "        vertical-align: top;\n",
       "    }\n",
       "\n",
       "    .dataframe thead th {\n",
       "        text-align: right;\n",
       "    }\n",
       "</style>\n",
       "<table border=\"1\" class=\"dataframe\">\n",
       "  <thead>\n",
       "    <tr style=\"text-align: right;\">\n",
       "      <th></th>\n",
       "      <th>Time</th>\n",
       "      <th>Open</th>\n",
       "      <th>High</th>\n",
       "      <th>Low</th>\n",
       "      <th>Last</th>\n",
       "      <th>Change</th>\n",
       "    </tr>\n",
       "  </thead>\n",
       "  <tbody>\n",
       "    <tr>\n",
       "      <th>0</th>\n",
       "      <td>12/19/19</td>\n",
       "      <td>1.30774</td>\n",
       "      <td>1.31317</td>\n",
       "      <td>1.29899</td>\n",
       "      <td>1.30077</td>\n",
       "      <td>-0.00698</td>\n",
       "    </tr>\n",
       "    <tr>\n",
       "      <th>1</th>\n",
       "      <td>12/18/19</td>\n",
       "      <td>1.31291</td>\n",
       "      <td>1.31338</td>\n",
       "      <td>1.30598</td>\n",
       "      <td>1.30775</td>\n",
       "      <td>-0.00518</td>\n",
       "    </tr>\n",
       "    <tr>\n",
       "      <th>2</th>\n",
       "      <td>12/17/19</td>\n",
       "      <td>1.33311</td>\n",
       "      <td>1.33349</td>\n",
       "      <td>1.30991</td>\n",
       "      <td>1.31293</td>\n",
       "      <td>-0.02017</td>\n",
       "    </tr>\n",
       "    <tr>\n",
       "      <th>3</th>\n",
       "      <td>12/16/19</td>\n",
       "      <td>1.33384</td>\n",
       "      <td>1.34217</td>\n",
       "      <td>1.33212</td>\n",
       "      <td>1.33310</td>\n",
       "      <td>0.00056</td>\n",
       "    </tr>\n",
       "    <tr>\n",
       "      <th>4</th>\n",
       "      <td>12/13/19</td>\n",
       "      <td>1.31563</td>\n",
       "      <td>1.35139</td>\n",
       "      <td>1.31562</td>\n",
       "      <td>1.33254</td>\n",
       "      <td>0.01695</td>\n",
       "    </tr>\n",
       "  </tbody>\n",
       "</table>\n",
       "</div>"
      ],
      "text/plain": [
       "       Time     Open     High      Low     Last   Change\n",
       "0  12/19/19  1.30774  1.31317  1.29899  1.30077 -0.00698\n",
       "1  12/18/19  1.31291  1.31338  1.30598  1.30775 -0.00518\n",
       "2  12/17/19  1.33311  1.33349  1.30991  1.31293 -0.02017\n",
       "3  12/16/19  1.33384  1.34217  1.33212  1.33310  0.00056\n",
       "4  12/13/19  1.31563  1.35139  1.31562  1.33254  0.01695"
      ]
     },
     "execution_count": 15,
     "metadata": {},
     "output_type": "execute_result"
    }
   ],
   "source": [
    "gbp_usd_df.pop('Volume')\n",
    "gbp_usd_df.head()"
   ]
  },
  {
   "cell_type": "markdown",
   "metadata": {},
   "source": [
    "## Find High and Low of the year\n",
    "\n",
    "## USD/CHF"
   ]
  },
  {
   "cell_type": "code",
   "execution_count": 16,
   "metadata": {},
   "outputs": [
    {
     "data": {
      "image/png": "[encoded data removed]",
      "text/plain": [
       "<Figure size 432x288 with 1 Axes>"
      ]
     },
     "metadata": {
      "needs_background": "light"
     },
     "output_type": "display_data"
    }
   ],
   "source": [
    "fig = plt.figure()\n",
    "ax = plt.axes()"
   ]
  },
  {
   "cell_type": "code",
   "execution_count": 17,
   "metadata": {},
   "outputs": [
    {
     "data": {
      "image/png": "[encoded data removed]",
      "text/plain": [
       "<Figure size 432x288 with 1 Axes>"
      ]
     },
     "metadata": {
      "needs_background": "light"
     },
     "output_type": "display_data"
    }
   ],
   "source": [
    "usd_chf_df.plot(kind='line',x='Time',y='High',color='blue')\n",
    "plt.show()"
   ]
  },
  {
   "cell_type": "code",
   "execution_count": 18,
   "metadata": {},
   "outputs": [
    {
     "name": "stdout",
     "output_type": "stream",
     "text": [
      "USD/CHF year high = 1.02334\n",
      "USD/CHF year low = 0.96593\n"
     ]
    }
   ],
   "source": [
    "h = usd_chf_df['High'].max()\n",
    "l = usd_chf_df['Low'].min()\n",
    "\n",
    "print(\"USD/CHF year high = {}\".format(round(h, 5)))\n",
    "print(\"USD/CHF year low = {}\".format(round(l, 5)))"
   ]
  },
  {
   "cell_type": "markdown",
   "metadata": {},
   "source": [
    "## EUR/USD"
   ]
  },
  {
   "cell_type": "code",
   "execution_count": 19,
   "metadata": {},
   "outputs": [
    {
     "data": {
      "image/png": "[encoded data removed]",
      "text/plain": [
       "<Figure size 432x288 with 1 Axes>"
      ]
     },
     "metadata": {
      "needs_background": "light"
     },
     "output_type": "display_data"
    }
   ],
   "source": [
    "eur_usd_df.plot(kind='line',x='Time',y='High',color='green')\n",
    "plt.show()"
   ]
  },
  {
   "cell_type": "code",
   "execution_count": 20,
   "metadata": {},
   "outputs": [
    {
     "name": "stdout",
     "output_type": "stream",
     "text": [
      "EUR/USD year high = 1.15695\n",
      "EUR/USD year low = 1.08789\n"
     ]
    }
   ],
   "source": [
    "h = eur_usd_df['High'].max()\n",
    "l = eur_usd_df['Low'].min()\n",
    "\n",
    "print(\"EUR/USD year high = {}\".format(round(h, 5)))\n",
    "print(\"EUR/USD year low = {}\".format(round(l, 5)))"
   ]
  },
  {
   "cell_type": "markdown",
   "metadata": {},
   "source": [
    "## GBP/USD"
   ]
  },
  {
   "cell_type": "code",
   "execution_count": 21,
   "metadata": {},
   "outputs": [
    {
     "data": {
      "image/png": "[encoded data removed]",
      "text/plain": [
       "<Figure size 432x288 with 1 Axes>"
      ]
     },
     "metadata": {
      "needs_background": "light"
     },
     "output_type": "display_data"
    }
   ],
   "source": [
    "gbp_usd_df.plot(kind='line',x='Time',y='High',color='purple')\n",
    "plt.show()"
   ]
  },
  {
   "cell_type": "code",
   "execution_count": 22,
   "metadata": {},
   "outputs": [
    {
     "name": "stdout",
     "output_type": "stream",
     "text": [
      "GBP/USD yeah high = 1.35139\n",
      "GBP/USD yeah low = 1.19582\n"
     ]
    }
   ],
   "source": [
    "h = gbp_usd_df['High'].max()\n",
    "l = gbp_usd_df['Low'].min()\n",
    "\n",
    "print(\"GBP/USD yeah high = {}\".format(round(h, 5)))\n",
    "print(\"GBP/USD yeah low = {}\".format(round(l, 5)))"
   ]
  },
  {
   "cell_type": "markdown",
   "metadata": {},
   "source": [
    "## Compare All three currency pairs"
   ]
  },
  {
   "cell_type": "code",
   "execution_count": 23,
   "metadata": {},
   "outputs": [
    {
     "data": {
      "image/png": "[encoded data removed]",
      "text/plain": [
       "<Figure size 432x288 with 1 Axes>"
      ]
     },
     "metadata": {
      "needs_background": "light"
     },
     "output_type": "display_data"
    }
   ],
   "source": [
    "#ax = usd_chf_df.plot()\n",
    "ax = plt.gca()\n",
    "usd_chf_df.plot(kind='line',x='Time',y='Last',color='blue', ax=ax)\n",
    "eur_usd_df.plot(kind='line',x='Time',y='Last',color='green', ax=ax)\n",
    "gbp_usd_df.plot(kind='line',x='Time',y='Last',color='purple', ax=ax)\n",
    "ax.legend([\"usd/chf\", \"eur/usd\", \"gbp/usd\"])\n",
    "plt.show()"
   ]
  },
  {
   "cell_type": "markdown",
   "metadata": {},
   "source": [
    "## Longest Uptrend based on daily change rate\n",
    "\n",
    "### USD/CHF\n"
   ]
  },
  {
   "cell_type": "code",
   "execution_count": 24,
   "metadata": {},
   "outputs": [
    {
     "data": {
      "text/html": [
       "<div>\n",
       "<style scoped>\n",
       "    .dataframe tbody tr th:only-of-type {\n",
       "        vertical-align: middle;\n",
       "    }\n",
       "\n",
       "    .dataframe tbody tr th {\n",
       "        vertical-align: top;\n",
       "    }\n",
       "\n",
       "    .dataframe thead th {\n",
       "        text-align: right;\n",
       "    }\n",
       "</style>\n",
       "<table border=\"1\" class=\"dataframe\">\n",
       "  <thead>\n",
       "    <tr style=\"text-align: right;\">\n",
       "      <th></th>\n",
       "      <th>Time</th>\n",
       "      <th>Open</th>\n",
       "      <th>High</th>\n",
       "      <th>Low</th>\n",
       "      <th>Last</th>\n",
       "      <th>Change</th>\n",
       "    </tr>\n",
       "  </thead>\n",
       "  <tbody>\n",
       "    <tr>\n",
       "      <th>0</th>\n",
       "      <td>True</td>\n",
       "      <td>True</td>\n",
       "      <td>True</td>\n",
       "      <td>True</td>\n",
       "      <td>True</td>\n",
       "      <td>False</td>\n",
       "    </tr>\n",
       "    <tr>\n",
       "      <th>1</th>\n",
       "      <td>True</td>\n",
       "      <td>True</td>\n",
       "      <td>True</td>\n",
       "      <td>True</td>\n",
       "      <td>True</td>\n",
       "      <td>True</td>\n",
       "    </tr>\n",
       "    <tr>\n",
       "      <th>2</th>\n",
       "      <td>True</td>\n",
       "      <td>True</td>\n",
       "      <td>True</td>\n",
       "      <td>True</td>\n",
       "      <td>True</td>\n",
       "      <td>False</td>\n",
       "    </tr>\n",
       "    <tr>\n",
       "      <th>3</th>\n",
       "      <td>True</td>\n",
       "      <td>True</td>\n",
       "      <td>True</td>\n",
       "      <td>True</td>\n",
       "      <td>True</td>\n",
       "      <td>False</td>\n",
       "    </tr>\n",
       "    <tr>\n",
       "      <th>4</th>\n",
       "      <td>True</td>\n",
       "      <td>True</td>\n",
       "      <td>True</td>\n",
       "      <td>True</td>\n",
       "      <td>True</td>\n",
       "      <td>False</td>\n",
       "    </tr>\n",
       "  </tbody>\n",
       "</table>\n",
       "</div>"
      ],
      "text/plain": [
       "   Time  Open  High   Low  Last  Change\n",
       "0  True  True  True  True  True   False\n",
       "1  True  True  True  True  True    True\n",
       "2  True  True  True  True  True   False\n",
       "3  True  True  True  True  True   False\n",
       "4  True  True  True  True  True   False"
      ]
     },
     "execution_count": 24,
     "metadata": {},
     "output_type": "execute_result"
    }
   ],
   "source": [
    "# Filter all possitive price moves\n",
    "df_p = usd_chf_df > 0\n",
    "df_p.head()"
   ]
  },
  {
   "cell_type": "code",
   "execution_count": 25,
   "metadata": {},
   "outputs": [
    {
     "data": {
      "text/plain": [
       "5"
      ]
     },
     "execution_count": 25,
     "metadata": {},
     "output_type": "execute_result"
    }
   ],
   "source": [
    "y = df_p['Change']\n",
    "s = y.groupby((y != y.shift()).cumsum()).cumcount()\n",
    "\n",
    "s.max()\n"
   ]
  },
  {
   "cell_type": "markdown",
   "metadata": {},
   "source": [
    "#### Lonegst Uptrend for USD/CHF lasted 5 days\n",
    "\n",
    "## EUR/UDS"
   ]
  },
  {
   "cell_type": "code",
   "execution_count": 26,
   "metadata": {},
   "outputs": [
    {
     "data": {
      "text/html": [
       "<div>\n",
       "<style scoped>\n",
       "    .dataframe tbody tr th:only-of-type {\n",
       "        vertical-align: middle;\n",
       "    }\n",
       "\n",
       "    .dataframe tbody tr th {\n",
       "        vertical-align: top;\n",
       "    }\n",
       "\n",
       "    .dataframe thead th {\n",
       "        text-align: right;\n",
       "    }\n",
       "</style>\n",
       "<table border=\"1\" class=\"dataframe\">\n",
       "  <thead>\n",
       "    <tr style=\"text-align: right;\">\n",
       "      <th></th>\n",
       "      <th>Time</th>\n",
       "      <th>Open</th>\n",
       "      <th>High</th>\n",
       "      <th>Low</th>\n",
       "      <th>Last</th>\n",
       "      <th>Change</th>\n",
       "    </tr>\n",
       "  </thead>\n",
       "  <tbody>\n",
       "    <tr>\n",
       "      <th>0</th>\n",
       "      <td>True</td>\n",
       "      <td>True</td>\n",
       "      <td>True</td>\n",
       "      <td>True</td>\n",
       "      <td>True</td>\n",
       "      <td>True</td>\n",
       "    </tr>\n",
       "    <tr>\n",
       "      <th>1</th>\n",
       "      <td>True</td>\n",
       "      <td>True</td>\n",
       "      <td>True</td>\n",
       "      <td>True</td>\n",
       "      <td>True</td>\n",
       "      <td>False</td>\n",
       "    </tr>\n",
       "    <tr>\n",
       "      <th>2</th>\n",
       "      <td>True</td>\n",
       "      <td>True</td>\n",
       "      <td>True</td>\n",
       "      <td>True</td>\n",
       "      <td>True</td>\n",
       "      <td>True</td>\n",
       "    </tr>\n",
       "    <tr>\n",
       "      <th>3</th>\n",
       "      <td>True</td>\n",
       "      <td>True</td>\n",
       "      <td>True</td>\n",
       "      <td>True</td>\n",
       "      <td>True</td>\n",
       "      <td>True</td>\n",
       "    </tr>\n",
       "    <tr>\n",
       "      <th>4</th>\n",
       "      <td>True</td>\n",
       "      <td>True</td>\n",
       "      <td>True</td>\n",
       "      <td>True</td>\n",
       "      <td>True</td>\n",
       "      <td>False</td>\n",
       "    </tr>\n",
       "  </tbody>\n",
       "</table>\n",
       "</div>"
      ],
      "text/plain": [
       "   Time  Open  High   Low  Last  Change\n",
       "0  True  True  True  True  True    True\n",
       "1  True  True  True  True  True   False\n",
       "2  True  True  True  True  True    True\n",
       "3  True  True  True  True  True    True\n",
       "4  True  True  True  True  True   False"
      ]
     },
     "execution_count": 26,
     "metadata": {},
     "output_type": "execute_result"
    }
   ],
   "source": [
    "df_p = eur_usd_df > 0\n",
    "df_p.head()"
   ]
  },
  {
   "cell_type": "code",
   "execution_count": 27,
   "metadata": {},
   "outputs": [
    {
     "data": {
      "text/plain": [
       "5"
      ]
     },
     "execution_count": 27,
     "metadata": {},
     "output_type": "execute_result"
    }
   ],
   "source": [
    "y = df_p['Change']\n",
    "s = y.groupby((y != y.shift()).cumsum()).cumcount()\n",
    "\n",
    "s.max()"
   ]
  },
  {
   "cell_type": "markdown",
   "metadata": {},
   "source": [
    "#### Lonegst Uptrend for EUR/USD lasted 5 days\n",
    "\n",
    "## GBP/UDS"
   ]
  },
  {
   "cell_type": "code",
   "execution_count": 28,
   "metadata": {},
   "outputs": [
    {
     "data": {
      "text/html": [
       "<div>\n",
       "<style scoped>\n",
       "    .dataframe tbody tr th:only-of-type {\n",
       "        vertical-align: middle;\n",
       "    }\n",
       "\n",
       "    .dataframe tbody tr th {\n",
       "        vertical-align: top;\n",
       "    }\n",
       "\n",
       "    .dataframe thead th {\n",
       "        text-align: right;\n",
       "    }\n",
       "</style>\n",
       "<table border=\"1\" class=\"dataframe\">\n",
       "  <thead>\n",
       "    <tr style=\"text-align: right;\">\n",
       "      <th></th>\n",
       "      <th>Time</th>\n",
       "      <th>Open</th>\n",
       "      <th>High</th>\n",
       "      <th>Low</th>\n",
       "      <th>Last</th>\n",
       "      <th>Change</th>\n",
       "    </tr>\n",
       "  </thead>\n",
       "  <tbody>\n",
       "    <tr>\n",
       "      <th>0</th>\n",
       "      <td>True</td>\n",
       "      <td>True</td>\n",
       "      <td>True</td>\n",
       "      <td>True</td>\n",
       "      <td>True</td>\n",
       "      <td>False</td>\n",
       "    </tr>\n",
       "    <tr>\n",
       "      <th>1</th>\n",
       "      <td>True</td>\n",
       "      <td>True</td>\n",
       "      <td>True</td>\n",
       "      <td>True</td>\n",
       "      <td>True</td>\n",
       "      <td>False</td>\n",
       "    </tr>\n",
       "    <tr>\n",
       "      <th>2</th>\n",
       "      <td>True</td>\n",
       "      <td>True</td>\n",
       "      <td>True</td>\n",
       "      <td>True</td>\n",
       "      <td>True</td>\n",
       "      <td>False</td>\n",
       "    </tr>\n",
       "    <tr>\n",
       "      <th>3</th>\n",
       "      <td>True</td>\n",
       "      <td>True</td>\n",
       "      <td>True</td>\n",
       "      <td>True</td>\n",
       "      <td>True</td>\n",
       "      <td>True</td>\n",
       "    </tr>\n",
       "    <tr>\n",
       "      <th>4</th>\n",
       "      <td>True</td>\n",
       "      <td>True</td>\n",
       "      <td>True</td>\n",
       "      <td>True</td>\n",
       "      <td>True</td>\n",
       "      <td>True</td>\n",
       "    </tr>\n",
       "  </tbody>\n",
       "</table>\n",
       "</div>"
      ],
      "text/plain": [
       "   Time  Open  High   Low  Last  Change\n",
       "0  True  True  True  True  True   False\n",
       "1  True  True  True  True  True   False\n",
       "2  True  True  True  True  True   False\n",
       "3  True  True  True  True  True    True\n",
       "4  True  True  True  True  True    True"
      ]
     },
     "execution_count": 28,
     "metadata": {},
     "output_type": "execute_result"
    }
   ],
   "source": [
    "# Filter all possitive price moves\n",
    "df_p = gbp_usd_df > 0\n",
    "df_p.head()"
   ]
  },
  {
   "cell_type": "code",
   "execution_count": 29,
   "metadata": {},
   "outputs": [
    {
     "data": {
      "text/plain": [
       "9"
      ]
     },
     "execution_count": 29,
     "metadata": {},
     "output_type": "execute_result"
    }
   ],
   "source": [
    "y = df_p['Change']\n",
    "s = y.groupby((y != y.shift()).cumsum()).cumcount()\n",
    "s.max()"
   ]
  },
  {
   "cell_type": "markdown",
   "metadata": {},
   "source": [
    "#### Lonegst Uptrend for GBP/USD lasted 9 days\n",
    "\n",
    "## Downtrends"
   ]
  },
  {
   "cell_type": "code",
   "execution_count": 30,
   "metadata": {},
   "outputs": [
    {
     "data": {
      "text/html": [
       "<div>\n",
       "<style scoped>\n",
       "    .dataframe tbody tr th:only-of-type {\n",
       "        vertical-align: middle;\n",
       "    }\n",
       "\n",
       "    .dataframe tbody tr th {\n",
       "        vertical-align: top;\n",
       "    }\n",
       "\n",
       "    .dataframe thead th {\n",
       "        text-align: right;\n",
       "    }\n",
       "</style>\n",
       "<table border=\"1\" class=\"dataframe\">\n",
       "  <thead>\n",
       "    <tr style=\"text-align: right;\">\n",
       "      <th></th>\n",
       "      <th>Time</th>\n",
       "      <th>Open</th>\n",
       "      <th>High</th>\n",
       "      <th>Low</th>\n",
       "      <th>Last</th>\n",
       "      <th>Change</th>\n",
       "    </tr>\n",
       "  </thead>\n",
       "  <tbody>\n",
       "    <tr>\n",
       "      <th>0</th>\n",
       "      <td>True</td>\n",
       "      <td>False</td>\n",
       "      <td>False</td>\n",
       "      <td>False</td>\n",
       "      <td>False</td>\n",
       "      <td>True</td>\n",
       "    </tr>\n",
       "    <tr>\n",
       "      <th>1</th>\n",
       "      <td>True</td>\n",
       "      <td>False</td>\n",
       "      <td>False</td>\n",
       "      <td>False</td>\n",
       "      <td>False</td>\n",
       "      <td>False</td>\n",
       "    </tr>\n",
       "    <tr>\n",
       "      <th>2</th>\n",
       "      <td>True</td>\n",
       "      <td>False</td>\n",
       "      <td>False</td>\n",
       "      <td>False</td>\n",
       "      <td>False</td>\n",
       "      <td>True</td>\n",
       "    </tr>\n",
       "    <tr>\n",
       "      <th>3</th>\n",
       "      <td>True</td>\n",
       "      <td>False</td>\n",
       "      <td>False</td>\n",
       "      <td>False</td>\n",
       "      <td>False</td>\n",
       "      <td>True</td>\n",
       "    </tr>\n",
       "    <tr>\n",
       "      <th>4</th>\n",
       "      <td>True</td>\n",
       "      <td>False</td>\n",
       "      <td>False</td>\n",
       "      <td>False</td>\n",
       "      <td>False</td>\n",
       "      <td>True</td>\n",
       "    </tr>\n",
       "  </tbody>\n",
       "</table>\n",
       "</div>"
      ],
      "text/plain": [
       "   Time   Open   High    Low   Last  Change\n",
       "0  True  False  False  False  False    True\n",
       "1  True  False  False  False  False   False\n",
       "2  True  False  False  False  False    True\n",
       "3  True  False  False  False  False    True\n",
       "4  True  False  False  False  False    True"
      ]
     },
     "execution_count": 30,
     "metadata": {},
     "output_type": "execute_result"
    }
   ],
   "source": [
    "# Filter all possitive price moves\n",
    "df_p = usd_chf_df < 0\n",
    "df_p.head()"
   ]
  },
  {
   "cell_type": "code",
   "execution_count": 31,
   "metadata": {},
   "outputs": [
    {
     "data": {
      "text/plain": [
       "5"
      ]
     },
     "execution_count": 31,
     "metadata": {},
     "output_type": "execute_result"
    }
   ],
   "source": [
    "y = df_p['Change']\n",
    "s = y.groupby((y != y.shift()).cumsum()).cumcount()\n",
    "s.max()"
   ]
  },
  {
   "cell_type": "markdown",
   "metadata": {},
   "source": [
    "### USD/CHF longest downtrend  was of 5 days\n",
    "\n",
    "## EUR/USD"
   ]
  },
  {
   "cell_type": "code",
   "execution_count": 32,
   "metadata": {},
   "outputs": [
    {
     "data": {
      "text/html": [
       "<div>\n",
       "<style scoped>\n",
       "    .dataframe tbody tr th:only-of-type {\n",
       "        vertical-align: middle;\n",
       "    }\n",
       "\n",
       "    .dataframe tbody tr th {\n",
       "        vertical-align: top;\n",
       "    }\n",
       "\n",
       "    .dataframe thead th {\n",
       "        text-align: right;\n",
       "    }\n",
       "</style>\n",
       "<table border=\"1\" class=\"dataframe\">\n",
       "  <thead>\n",
       "    <tr style=\"text-align: right;\">\n",
       "      <th></th>\n",
       "      <th>Time</th>\n",
       "      <th>Open</th>\n",
       "      <th>High</th>\n",
       "      <th>Low</th>\n",
       "      <th>Last</th>\n",
       "      <th>Change</th>\n",
       "    </tr>\n",
       "  </thead>\n",
       "  <tbody>\n",
       "    <tr>\n",
       "      <th>0</th>\n",
       "      <td>True</td>\n",
       "      <td>False</td>\n",
       "      <td>False</td>\n",
       "      <td>False</td>\n",
       "      <td>False</td>\n",
       "      <td>False</td>\n",
       "    </tr>\n",
       "    <tr>\n",
       "      <th>1</th>\n",
       "      <td>True</td>\n",
       "      <td>False</td>\n",
       "      <td>False</td>\n",
       "      <td>False</td>\n",
       "      <td>False</td>\n",
       "      <td>True</td>\n",
       "    </tr>\n",
       "    <tr>\n",
       "      <th>2</th>\n",
       "      <td>True</td>\n",
       "      <td>False</td>\n",
       "      <td>False</td>\n",
       "      <td>False</td>\n",
       "      <td>False</td>\n",
       "      <td>False</td>\n",
       "    </tr>\n",
       "    <tr>\n",
       "      <th>3</th>\n",
       "      <td>True</td>\n",
       "      <td>False</td>\n",
       "      <td>False</td>\n",
       "      <td>False</td>\n",
       "      <td>False</td>\n",
       "      <td>False</td>\n",
       "    </tr>\n",
       "    <tr>\n",
       "      <th>4</th>\n",
       "      <td>True</td>\n",
       "      <td>False</td>\n",
       "      <td>False</td>\n",
       "      <td>False</td>\n",
       "      <td>False</td>\n",
       "      <td>True</td>\n",
       "    </tr>\n",
       "  </tbody>\n",
       "</table>\n",
       "</div>"
      ],
      "text/plain": [
       "   Time   Open   High    Low   Last  Change\n",
       "0  True  False  False  False  False   False\n",
       "1  True  False  False  False  False    True\n",
       "2  True  False  False  False  False   False\n",
       "3  True  False  False  False  False   False\n",
       "4  True  False  False  False  False    True"
      ]
     },
     "execution_count": 32,
     "metadata": {},
     "output_type": "execute_result"
    }
   ],
   "source": [
    "# Filter all possitive price moves\n",
    "df_p = eur_usd_df < 0\n",
    "df_p.head()"
   ]
  },
  {
   "cell_type": "code",
   "execution_count": 33,
   "metadata": {},
   "outputs": [
    {
     "data": {
      "text/plain": [
       "5"
      ]
     },
     "execution_count": 33,
     "metadata": {},
     "output_type": "execute_result"
    }
   ],
   "source": [
    "y = df_p['Change']\n",
    "s = y.groupby((y != y.shift()).cumsum()).cumcount()\n",
    "s.max()"
   ]
  },
  {
   "cell_type": "markdown",
   "metadata": {},
   "source": [
    "### EUR/USD longest downtrend  was of 5 days\n",
    "\n",
    "## GBP/USD"
   ]
  },
  {
   "cell_type": "code",
   "execution_count": 34,
   "metadata": {},
   "outputs": [
    {
     "data": {
      "text/html": [
       "<div>\n",
       "<style scoped>\n",
       "    .dataframe tbody tr th:only-of-type {\n",
       "        vertical-align: middle;\n",
       "    }\n",
       "\n",
       "    .dataframe tbody tr th {\n",
       "        vertical-align: top;\n",
       "    }\n",
       "\n",
       "    .dataframe thead th {\n",
       "        text-align: right;\n",
       "    }\n",
       "</style>\n",
       "<table border=\"1\" class=\"dataframe\">\n",
       "  <thead>\n",
       "    <tr style=\"text-align: right;\">\n",
       "      <th></th>\n",
       "      <th>Time</th>\n",
       "      <th>Open</th>\n",
       "      <th>High</th>\n",
       "      <th>Low</th>\n",
       "      <th>Last</th>\n",
       "      <th>Change</th>\n",
       "    </tr>\n",
       "  </thead>\n",
       "  <tbody>\n",
       "    <tr>\n",
       "      <th>0</th>\n",
       "      <td>True</td>\n",
       "      <td>False</td>\n",
       "      <td>False</td>\n",
       "      <td>False</td>\n",
       "      <td>False</td>\n",
       "      <td>True</td>\n",
       "    </tr>\n",
       "    <tr>\n",
       "      <th>1</th>\n",
       "      <td>True</td>\n",
       "      <td>False</td>\n",
       "      <td>False</td>\n",
       "      <td>False</td>\n",
       "      <td>False</td>\n",
       "      <td>True</td>\n",
       "    </tr>\n",
       "    <tr>\n",
       "      <th>2</th>\n",
       "      <td>True</td>\n",
       "      <td>False</td>\n",
       "      <td>False</td>\n",
       "      <td>False</td>\n",
       "      <td>False</td>\n",
       "      <td>True</td>\n",
       "    </tr>\n",
       "    <tr>\n",
       "      <th>3</th>\n",
       "      <td>True</td>\n",
       "      <td>False</td>\n",
       "      <td>False</td>\n",
       "      <td>False</td>\n",
       "      <td>False</td>\n",
       "      <td>False</td>\n",
       "    </tr>\n",
       "    <tr>\n",
       "      <th>4</th>\n",
       "      <td>True</td>\n",
       "      <td>False</td>\n",
       "      <td>False</td>\n",
       "      <td>False</td>\n",
       "      <td>False</td>\n",
       "      <td>False</td>\n",
       "    </tr>\n",
       "  </tbody>\n",
       "</table>\n",
       "</div>"
      ],
      "text/plain": [
       "   Time   Open   High    Low   Last  Change\n",
       "0  True  False  False  False  False    True\n",
       "1  True  False  False  False  False    True\n",
       "2  True  False  False  False  False    True\n",
       "3  True  False  False  False  False   False\n",
       "4  True  False  False  False  False   False"
      ]
     },
     "execution_count": 34,
     "metadata": {},
     "output_type": "execute_result"
    }
   ],
   "source": [
    "# Filter all possitive price moves\n",
    "df_p = gbp_usd_df < 0\n",
    "df_p.head()"
   ]
  },
  {
   "cell_type": "code",
   "execution_count": 35,
   "metadata": {},
   "outputs": [
    {
     "data": {
      "text/plain": [
       "9"
      ]
     },
     "execution_count": 35,
     "metadata": {},
     "output_type": "execute_result"
    }
   ],
   "source": [
    "y = df_p['Change']\n",
    "s = y.groupby((y != y.shift()).cumsum()).cumcount()\n",
    "s.max()"
   ]
  }
 ],
 "metadata": {
  "kernelspec": {
   "display_name": "Python 3",
   "language": "python",
   "name": "python3"
  },
  "language_info": {
   "codemirror_mode": {
    "name": "ipython",
    "version": 3
   },
   "file_extension": ".py",
   "mimetype": "text/x-python",
   "name": "python",
   "nbconvert_exporter": "python",
   "pygments_lexer": "ipython3",
   "version": "3.7.2"
  }
 },
 "nbformat": 4,
 "nbformat_minor": 2
}
